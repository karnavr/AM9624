{
 "cells": [
  {
   "cell_type": "code",
   "execution_count": 19,
   "metadata": {},
   "outputs": [],
   "source": [
    "# import libraries\n",
    "import numpy as np\n",
    "import torch\n",
    "\n",
    "# step 1: prep data set\n",
    "import torchvision\n",
    "import torchvision.transforms as transforms\n",
    "import matplotlib.pyplot as plt\n",
    "\n",
    "# step 2: build model\n",
    "import torch.nn as nn\n",
    "import torch.nn.functional as F\n",
    "\n",
    "# step 3: train model\n",
    "import torch.optim as optim\n",
    "\n",
    "import os"
   ]
  },
  {
   "cell_type": "code",
   "execution_count": 2,
   "metadata": {},
   "outputs": [
    {
     "name": "stdout",
     "output_type": "stream",
     "text": [
      "Downloading https://www.cs.toronto.edu/~kriz/cifar-10-python.tar.gz to ./data/cifar-10-python.tar.gz\n"
     ]
    },
    {
     "name": "stderr",
     "output_type": "stream",
     "text": [
      "100%|██████████| 170M/170M [00:03<00:00, 55.7MB/s] \n"
     ]
    },
    {
     "name": "stdout",
     "output_type": "stream",
     "text": [
      "Extracting ./data/cifar-10-python.tar.gz to ./data\n",
      "Files already downloaded and verified\n"
     ]
    }
   ],
   "source": [
    "# download, split, and preprocess the images\n",
    "\n",
    "# formatting transformation to convert the images to tensors (easier for pytorch to handle and train on a GPU) and normalize the pixel values\n",
    "transform = transforms.Compose(\n",
    "    [s.ToTensor(),transform\n",
    "     # normalize \n",
    "     transforms.Normalize((0.5, 0.5, 0.5), (0.5, 0.5, 0.5))])\n",
    "\n",
    "# download the CIFAR10 dataset (only the training set) and apply the transformations\n",
    "trainset = torchvision.datasets.CIFAR10(root='./data', train=True, download=True, transform=transform)\n",
    "\n",
    "# create a dataloader to load the data in batches \n",
    "trainloader = torch.utils.data.DataLoader(trainset, batch_size=4, shuffle=True, num_workers=32)\n",
    "\n",
    "# download the CIFAR10 dataset (only the test set) and apply the transformations\n",
    "testset = torchvision.datasets.CIFAR10(root='./data', train=False, download=True, transform=transform)\n",
    "\n",
    "# create a dataloader to load the data in batches \n",
    "testloader = torch.utils.data.DataLoader(testset, batch_size=4, shuffle=False, num_workers=32)\n",
    "\n",
    "# define the classes in the dataset\n",
    "classes = ('plane', 'car', 'bird', 'cat', 'deer', 'dog', 'frog', 'horse', 'ship', 'truck')"
   ]
  },
  {
   "cell_type": "code",
   "execution_count": 3,
   "metadata": {},
   "outputs": [
    {
     "data": {
      "image/png": "[encoded data removed]",
      "text/plain": [
       "<Figure size 640x480 with 1 Axes>"
      ]
     },
     "metadata": {},
     "output_type": "display_data"
    },
    {
     "name": "stdout",
     "output_type": "stream",
     "text": [
      "plane  ship  ship   car\n"
     ]
    }
   ],
   "source": [
    "# function to show an image\n",
    "def imshow(img):\n",
    "    img = img / 2 + 0.5     # unnormalize\n",
    "    npimg = img.numpy()\n",
    "    plt.imshow(np.transpose(npimg, (1, 2, 0)))\n",
    "    plt.ion()\n",
    "    plt.show()\n",
    "\n",
    "# get some random training images\n",
    "dataiter = iter(trainloader)\n",
    "images, labels = next(dataiter)\n",
    "\n",
    "# show images\n",
    "imshow(torchvision.utils.make_grid(images))\n",
    "\n",
    "# print labels\n",
    "print(' '.join('%5s' % classes[labels[j]] for j in range(4)))"
   ]
  },
  {
   "cell_type": "code",
   "execution_count": 4,
   "metadata": {},
   "outputs": [],
   "source": [
    "# define network\n",
    "class Net(nn.Module):\n",
    "    def __init__(self):\n",
    "        super(Net, self).__init__()  # Initialize the parent class (nn.Module)\n",
    "        self.conv1 = nn.Conv2d(3, 6, 5) # First conv layer: 3 input channels/planes (RGB), 6 output channels, 5x5 kernel\n",
    "        self.pool = nn.MaxPool2d(2, 2)  # Max pooling layer with 2x2 window and stride 2\n",
    "        self.conv2 = nn.Conv2d(6, 16, 5)  # Second conv layer: 6 input channels (output of first conv layer), 16 output channels, 5x5 kernel\n",
    "        self.fc1 = nn.Linear(16 * 5 * 5, 120)  # First fully connected layer: 16*5*5 inputs, 120 outputs\n",
    "        self.fc2 = nn.Linear(120, 84)  # Second fully connected layer: 120 inputs, 84 outputs\n",
    "        self.fc3 = nn.Linear(84, 10)  # Output layer: 84 inputs, 10 outputs (CIFAR-10 classes)\n",
    "\n",
    "    def forward(self, x):\n",
    "        x = self.pool(F.relu(self.conv1(x)))  # Apply conv1, ReLU activation, and max pooling\n",
    "        x = self.pool(F.relu(self.conv2(x)))  # Apply conv2, ReLU activation, and max pooling\n",
    "        x = x.view(-1, 16 * 5 * 5)  # Flatten the feature maps (-1 for automatic batch size calculation)\n",
    "        x = F.relu(self.fc1(x))  # Apply first fully connected layer with ReLU\n",
    "        x = F.relu(self.fc2(x))  # Apply second fully connected layer with ReLU\n",
    "        x = self.fc3(x)  # Apply output layer (logits)\n",
    "        return x  # Return the output logits\n",
    "\n",
    "net = Net()  # Instantiate the network"
   ]
  },
  {
   "cell_type": "code",
   "execution_count": 5,
   "metadata": {},
   "outputs": [
    {
     "name": "stdout",
     "output_type": "stream",
     "text": [
      "[1,  2000] loss: 2.218\n",
      "[1,  4000] loss: 1.866\n",
      "[1,  6000] loss: 1.646\n",
      "[1,  8000] loss: 1.552\n",
      "[1, 10000] loss: 1.505\n",
      "[1, 12000] loss: 1.461\n",
      "[2,  2000] loss: 1.381\n",
      "[2,  4000] loss: 1.376\n",
      "[2,  6000] loss: 1.338\n",
      "[2,  8000] loss: 1.332\n",
      "[2, 10000] loss: 1.286\n",
      "[2, 12000] loss: 1.269\n",
      "Finished Training\n"
     ]
    }
   ],
   "source": [
    "# define loss function and optimizer (cross-entropy loss and SGD with momentum)\n",
    "criterion = nn.CrossEntropyLoss() # loss function -- generalizes for more than 2 classes (multi-class classification)\n",
    "optimizer = optim.SGD(net.parameters(), lr=0.001, momentum=0.9) # optimizer -- stochastic gradient descent with momentum\n",
    "\n",
    "# 0.9 momentum corresponds to recent 10 weight updates\n",
    "\n",
    "# train the model\n",
    "for epoch in range(2):  # loop over the dataset multiple times\n",
    "\n",
    "    running_loss = 0.0\n",
    "    for i, data in enumerate(trainloader, 0):\n",
    "        # get the inputs; data is a list of [inputs, labels]\n",
    "        inputs, labels = data\n",
    "\n",
    "        # zero the parameter gradients\n",
    "        optimizer.zero_grad()\n",
    "\n",
    "        # forward + backward + optimize\n",
    "        outputs = net(inputs)  # Forward pass: compute model predictions (logits) for the current batch\n",
    "        loss = criterion(outputs, labels)  # Calculate cross-entropy loss between predicted outputs and true labels\n",
    "        loss.backward()  # Backpropagation: compute gradients of the loss w.r.t. all learnable parameters\n",
    "        optimizer.step()  # Update all model parameters using the computed gradients and SGD with momentum\n",
    "\n",
    "        # print statistics\n",
    "        running_loss += loss.item()\n",
    "        if i % 2000 == 1999:    # print every 2000 mini-batches\n",
    "            print('[%d, %5d] loss: %.3f' %\n",
    "                  (epoch + 1, i + 1, running_loss / 2000))\n",
    "            running_loss = 0.0\n",
    "\n",
    "print('Finished Training')\n",
    "\n",
    "# save trained model\n",
    "PATH = './cifar_net.pth'\n",
    "torch.save(net.state_dict(), PATH)"
   ]
  },
  {
   "cell_type": "code",
   "execution_count": 6,
   "metadata": {},
   "outputs": [
    {
     "data": {
      "image/png": "[encoded data removed]",
      "text/plain": [
       "<Figure size 640x480 with 1 Axes>"
      ]
     },
     "metadata": {},
     "output_type": "display_data"
    },
    {
     "name": "stdout",
     "output_type": "stream",
     "text": [
      "GroundTruth:    cat  ship  ship plane\n",
      "Predicted:    cat   car   car  ship\n"
     ]
    },
    {
     "name": "stderr",
     "output_type": "stream",
     "text": [
      "/tmp/ipykernel_486659/1230447647.py:11: FutureWarning: You are using `torch.load` with `weights_only=False` (the current default value), which uses the default pickle module implicitly. It is possible to construct malicious pickle data which will execute arbitrary code during unpickling (See https://github.com/pytorch/pytorch/blob/main/SECURITY.md#untrusted-models for more details). In a future release, the default value for `weights_only` will be flipped to `True`. This limits the functions that could be executed during unpickling. Arbitrary objects will no longer be allowed to be loaded via this mode unless they are explicitly allowlisted by the user via `torch.serialization.add_safe_globals`. We recommend you start setting `weights_only=True` for any use case where you don't have full control of the loaded file. Please open an issue on GitHub for any issues related to this experimental feature.\n",
      "  net.load_state_dict(torch.load(PATH))\n"
     ]
    },
    {
     "name": "stdout",
     "output_type": "stream",
     "text": [
      "Accuracy of the network on the 10000 test images: 54 %\n",
      "Accuracy of plane : 57 %\n",
      "Accuracy of   car : 83 %\n",
      "Accuracy of  bird : 37 %\n",
      "Accuracy of   cat : 36 %\n",
      "Accuracy of  deer : 50 %\n",
      "Accuracy of   dog : 43 %\n",
      "Accuracy of  frog : 81 %\n",
      "Accuracy of horse : 53 %\n",
      "Accuracy of  ship : 56 %\n",
      "Accuracy of truck : 40 %\n"
     ]
    }
   ],
   "source": [
    "# display images from test set\n",
    "dataiter = iter(testloader)\n",
    "images, labels = next(dataiter)\n",
    "\n",
    "# print images\n",
    "imshow(torchvision.utils.make_grid(images))\n",
    "print('GroundTruth: ', ' '.join('%5s' % classes[labels[j]] for j in range(4)))\n",
    "\n",
    "# load trained network (only needed if you exited ipython after training)\n",
    "net = Net()\n",
    "net.load_state_dict(torch.load(PATH))\n",
    "\n",
    "# object categories predicted by the network\n",
    "outputs = net(images)\n",
    "_, predicted = torch.max(outputs, 1)\n",
    "\n",
    "print('Predicted: ', ' '.join('%5s' % classes[predicted[j]]\n",
    "                              for j in range(4)))\n",
    "\n",
    "# accuracy on the full test data set (10,000 images)\n",
    "correct = 0\n",
    "total = 0\n",
    "with torch.no_grad():\n",
    "    for data in testloader:\n",
    "        images, labels = data\n",
    "        outputs = net(images)\n",
    "        _, predicted = torch.max(outputs.data, 1)\n",
    "        total += labels.size(0)\n",
    "        correct += (predicted == labels).sum().item()\n",
    "\n",
    "print('Accuracy of the network on the 10000 test images: %d %%' % (\n",
    "    100 * correct / total))\n",
    "\n",
    "# investigate performance per object categoryclass_correct = list(0. for i in range(10))\n",
    "class_correct = list(0. for i in range(10))\n",
    "class_total = list(0. for i in range(10))\n",
    "with torch.no_grad():\n",
    "    for data in testloader:\n",
    "        images, labels = data\n",
    "        outputs = net(images)\n",
    "        _, predicted = torch.max(outputs, 1)\n",
    "        c = (predicted == labels).squeeze()\n",
    "        for i in range(4):\n",
    "            label = labels[i]\n",
    "            class_correct[label] += c[i].item()\n",
    "            class_total[label] += 1\n",
    "\n",
    "for i in range(10):\n",
    "    print('Accuracy of %5s : %2d %%' % (\n",
    "        classes[i], 100 * class_correct[i] / class_total[i]))"
   ]
  },
  {
   "cell_type": "markdown",
   "metadata": {},
   "source": []
  },
  {
   "cell_type": "code",
   "execution_count": 7,
   "metadata": {},
   "outputs": [],
   "source": [
    "transform = transforms.Compose([\n",
    "    transforms.Resize((32,32)),               # downscale/crop to 32×32\n",
    "    transforms.ToTensor(),                    # convert to a PyTorch tensor\n",
    "    transforms.Normalize((0.5, 0.5, 0.5),\n",
    "                         (0.5, 0.5, 0.5))     # same normalization as CIFAR-10\n",
    "])"
   ]
  },
  {
   "cell_type": "code",
   "execution_count": 8,
   "metadata": {},
   "outputs": [],
   "source": [
    "from PIL import Image"
   ]
  },
  {
   "cell_type": "markdown",
   "metadata": {},
   "source": [
    "### Batch 1"
   ]
  },
  {
   "cell_type": "code",
   "execution_count": null,
   "metadata": {},
   "outputs": [
    {
     "data": {
      "image/png": "[encoded data removed]",
      "text/plain": [
       "<Figure size 640x480 with 1 Axes>"
      ]
     },
     "metadata": {},
     "output_type": "display_data"
    }
   ],
   "source": [
    "img_path = \"B1/bluejay.png\"\n",
    "\n",
    "img = Image.open(img_path)\n",
    "img = transform(img).unsqueeze(0)\n",
    "\n",
    "ground_truth = img_path.split(\"/\")[-1].split(\".\")[0]\n",
    "\n",
    "# feed to network and print prediction\n",
    "output = net(img)\n",
    "_, predicted = torch.max(output, 1)\n",
    "predicted_class = classes[predicted]\n",
    "\n",
    "# visualize image \n",
    "plt.figure()\n",
    "plt.imshow(img.squeeze().permute(1, 2, 0).numpy() * 0.5 + 0.5)  # denormalize\n",
    "plt.title(f'Ground Truth: {ground_truth}, Predicted: {predicted_class}')\n",
    "plt.savefig(\"results/{ground_truth}\")"
   ]
  },
  {
   "cell_type": "code",
   "execution_count": 23,
   "metadata": {},
   "outputs": [],
   "source": [
    "# Path to your folder with images\n",
    "folder_path = \"B1\"\n",
    "for folder_path in [\"B1\", \"B2\", \"B3\"]:\n",
    "    # Loop over every file in the folder\n",
    "    for filename in os.listdir(folder_path):\n",
    "        # Check file extension\n",
    "        # (you can add other valid extensions if needed)\n",
    "        ext = os.path.splitext(filename)[1].lower()\n",
    "        if ext not in {\".png\", \".jpg\", \".jpeg\"}:\n",
    "            continue  # skip non-image files\n",
    "\n",
    "        # Extract ground-truth name by removing extension\n",
    "        ground_truth = os.path.splitext(filename)[0]\n",
    "\n",
    "        # Build full path to the image\n",
    "        img_path = os.path.join(folder_path, filename)\n",
    "\n",
    "        # Load and transform the image\n",
    "        img = Image.open(img_path)\n",
    "        img_tensor = transform(img).unsqueeze(0)  # add batch dimension\n",
    "\n",
    "        # Forward pass to get a prediction\n",
    "        output = net(img_tensor)\n",
    "        _, predicted = torch.max(output, 1)\n",
    "        predicted_class = classes[predicted]\n",
    "\n",
    "        # Visualize the image\n",
    "        # Denormalize by undoing (img_tensor * 0.5 + 0.5)\n",
    "        plt.figure(figsize=(5, 5), dpi=300)  # High DPI figure with square aspect ratio\n",
    "        plt.imshow(img_tensor.squeeze().permute(1, 2, 0).numpy() * 0.5 + 0.5)\n",
    "        plt.title(f\"Ground Truth: {ground_truth}, Predicted: {predicted_class}\")\n",
    "        plt.tight_layout()  # Trim excess white space\n",
    "        plt.axis('tight')   # Further reduce margins around the image\n",
    "\n",
    "        # Save the figure with a descriptive filename\n",
    "        save_name = f\"results/B1_{ground_truth}.png\"\n",
    "        plt.savefig(save_name)\n",
    "        plt.close()"
   ]
  },
  {
   "cell_type": "code",
   "execution_count": 24,
   "metadata": {},
   "outputs": [
    {
     "name": "stdout",
     "output_type": "stream",
     "text": [
      "B1_cat_on_bed.png\n",
      "B1_tractor.png\n",
      "B1_kayak.png\n",
      "B1_small_bird.png\n",
      "B1_lion_cub.png\n",
      "B1_street_with_cars.png\n",
      "B1_bluejay.png\n",
      "B1_butterfly.png\n",
      "B1_dog.png\n",
      "B1_car.png\n",
      "B1_dog_in_park.png\n",
      "B1_plane.png\n"
     ]
    }
   ],
   "source": [
    "# get file names of the results folder and print each one \n",
    "for filename in os.listdir(\"results\"):\n",
    "    print(filename)"
   ]
  },
  {
   "cell_type": "code",
   "execution_count": null,
   "metadata": {},
   "outputs": [],
   "source": []
  }
 ],
 "metadata": {
  "kernelspec": {
   "display_name": "base",
   "language": "python",
   "name": "python3"
  },
  "language_info": {
   "codemirror_mode": {
    "name": "ipython",
    "version": 3
   },
   "file_extension": ".py",
   "mimetype": "text/x-python",
   "name": "python",
   "nbconvert_exporter": "python",
   "pygments_lexer": "ipython3",
   "version": "3.11.7"
  }
 },
 "nbformat": 4,
 "nbformat_minor": 2
}
