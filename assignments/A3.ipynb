{
 "cells": [
  {
   "cell_type": "code",
   "execution_count": 2,
   "metadata": {},
   "outputs": [],
   "source": [
    "import numpy as np\n",
    "import matplotlib.pyplot as plt\n",
    "\n",
    "# high quality plots\n",
    "plt.rcParams['figure.dpi'] = 300"
   ]
  },
  {
   "cell_type": "markdown",
   "metadata": {},
   "source": [
    "#### **Auto-associative networks and pattern completion**"
   ]
  },
  {
   "cell_type": "markdown",
   "metadata": {},
   "source": [
    "#### 1. Creating the Hebbian Matrix\n",
    "\n",
    "Implement a network with 10 neurons in an input and output layer, using input vectors distributed and normalized as in the lab for Week 3. Create an outer product matrix to realize two \"auto-associations\" - that is, when presented with an activity pattern on the input layer, the network should re-generate the same pattern in the output layer."
   ]
  },
  {
   "cell_type": "markdown",
   "metadata": {},
   "source": []
  },
  {
   "cell_type": "code",
   "execution_count": 3,
   "metadata": {},
   "outputs": [],
   "source": [
    "def createHebbianSystem(N, M, eta = 1): \n",
    "    \"\"\"\n",
    "    Generate a Hebbian system \n",
    "    \"\"\"\n",
    "\n",
    "    # initialize input and output vectors\n",
    "    x = np.zeros( (N,M) )\n",
    "    y = np.zeros( (N,M) )\n",
    "\n",
    "    for ii in range(M):\n",
    "        # Generate random pattern in [-1, 1] and normalize\n",
    "        x[:, ii] = 2 * (np.random.rand(N) - 0.5)\n",
    "        x[:, ii] /= np.linalg.norm(x[:, ii])\n",
    "        \n",
    "        y[:, ii] = 2 * (np.random.rand(N) - 0.5)\n",
    "        y[:, ii] /= np.linalg.norm(y[:, ii])\n",
    "    \n",
    "    # generate the aggregate Hebbian outer product matrix\n",
    "    A = np.zeros((N, N))\n",
    "    for ii in range(M):\n",
    "        A += eta * np.outer(y[:, ii], x[:, ii])\n",
    "\n",
    "    return x, y, A"
   ]
  },
  {
   "cell_type": "code",
   "execution_count": null,
   "metadata": {},
   "outputs": [],
   "source": []
  }
 ],
 "metadata": {
  "kernelspec": {
   "display_name": "base",
   "language": "python",
   "name": "python3"
  },
  "language_info": {
   "codemirror_mode": {
    "name": "ipython",
    "version": 3
   },
   "file_extension": ".py",
   "mimetype": "text/x-python",
   "name": "python",
   "nbconvert_exporter": "python",
   "pygments_lexer": "ipython3",
   "version": "3.11.7"
  }
 },
 "nbformat": 4,
 "nbformat_minor": 2
}
