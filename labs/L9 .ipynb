{
  "cells": [
    {
      "cell_type": "code",
      "execution_count": 1,
      "metadata": {
        "colab": {
          "base_uri": "https://localhost:8080/"
        },
        "id": "IS-dwHH5Vj0U",
        "outputId": "6a0f6d03-a861-4b47-8315-7d924f3346f7"
      },
      "outputs": [
        {
          "name": "stdout",
          "output_type": "stream",
          "text": [
            "Mounted at /content/drive\n"
          ]
        }
      ],
      "source": [
        "# from google.colab import drive\n",
        "# drive.mount('/content/drive', force_remount=True)"
      ]
    },
    {
      "cell_type": "markdown",
      "metadata": {},
      "source": [
        "## **Convolutional Neural Networks**"
      ]
    },
    {
      "cell_type": "markdown",
      "metadata": {
        "id": "-N-HIJMc2U-_"
      },
      "source": [
        "### Import libraries"
      ]
    },
    {
      "cell_type": "code",
      "execution_count": 1,
      "metadata": {
        "id": "ROL0I0Qw2SwP"
      },
      "outputs": [],
      "source": [
        "# import libraries\n",
        "import numpy as np\n",
        "import torch\n",
        "\n",
        "# step 1: prep data set\n",
        "import torchvision\n",
        "import torchvision.transforms as transforms\n",
        "import matplotlib.pyplot as plt\n",
        "\n",
        "# step 2: build model\n",
        "import torch.nn as nn\n",
        "import torch.nn.functional as F\n",
        "\n",
        "# step 3: train model\n",
        "import torch.optim as optim"
      ]
    },
    {
      "cell_type": "markdown",
      "metadata": {
        "id": "JJCyBwH42fBA"
      },
      "source": [
        "### Step 1: Prepare the data set"
      ]
    },
    {
      "cell_type": "code",
      "execution_count": null,
      "metadata": {
        "colab": {
          "base_uri": "https://localhost:8080/"
        },
        "id": "AX_jTydE2mKW",
        "outputId": "4ac0071f-d82f-40b2-bbac-6674f952f33f"
      },
      "outputs": [
        {
          "name": "stdout",
          "output_type": "stream",
          "text": [
            "Files already downloaded and verified\n",
            "Files already downloaded and verified\n"
          ]
        }
      ],
      "source": [
        "# download, split, and preprocess the images\n",
        "\n",
        "# formatting transformation to convert the images to tensors (easier for pytorch to handle and train on a GPU) and normalize the pixel values\n",
        "transform = transforms.Compose(\n",
        "    [transforms.ToTensor(),\n",
        "     # normalize \n",
        "     transforms.Normalize((0.5, 0.5, 0.5), (0.5, 0.5, 0.5))])\n",
        "\n",
        "# download the CIFAR10 dataset (only the training set) and apply the transformations\n",
        "trainset = torchvision.datasets.CIFAR10(root='./data', train=True, download=True, transform=transform)\n",
        "\n",
        "# create a dataloader to load the data in batches \n",
        "trainloader = torch.utils.data.DataLoader(trainset, batch_size=4, shuffle=True, num_workers=32)\n",
        "\n",
        "# download the CIFAR10 dataset (only the test set) and apply the transformations\n",
        "testset = torchvision.datasets.CIFAR10(root='./data', train=False, download=True, transform=transform)\n",
        "\n",
        "# create a dataloader to load the data in batches \n",
        "testloader = torch.utils.data.DataLoader(testset, batch_size=4, shuffle=False, num_workers=32)\n",
        "\n",
        "# define the classes in the dataset\n",
        "classes = ('plane', 'car', 'bird', 'cat', 'deer', 'dog', 'frog', 'horse', 'ship', 'truck')"
      ]
    },
    {
      "cell_type": "markdown",
      "metadata": {
        "id": "kpJN4m1c2-E9"
      },
      "source": [
        "##### Show a few example images"
      ]
    },
    {
      "cell_type": "code",
      "execution_count": 35,
      "metadata": {
        "colab": {
          "base_uri": "https://localhost:8080/",
          "height": 210
        },
        "id": "kBJjVtn22pV-",
        "outputId": "fd3a4ee8-b4e5-4f66-b491-02bb2f535049"
      },
      "outputs": [
        {
          "data": {
            "image/png": "[encoded data removed]",
            "text/plain": [
              "<Figure size 640x480 with 1 Axes>"
            ]
          },
          "metadata": {},
          "output_type": "display_data"
        },
        {
          "name": "stdout",
          "output_type": "stream",
          "text": [
            " ship plane   cat plane\n"
          ]
        }
      ],
      "source": [
        "# function to show an image\n",
        "def imshow(img):\n",
        "    img = img / 2 + 0.5     # unnormalize\n",
        "    npimg = img.numpy()\n",
        "    plt.imshow(np.transpose(npimg, (1, 2, 0)))\n",
        "    plt.ion()\n",
        "    plt.show()\n",
        "\n",
        "# get some random training images\n",
        "dataiter = iter(trainloader)\n",
        "images, labels = next(dataiter)\n",
        "\n",
        "# show images\n",
        "imshow(torchvision.utils.make_grid(images))\n",
        "\n",
        "# print labels\n",
        "print(' '.join('%5s' % classes[labels[j]] for j in range(4)))"
      ]
    },
    {
      "cell_type": "markdown",
      "metadata": {
        "id": "BKUlX0qH3dn2"
      },
      "source": [
        "### Step 2: Build the network"
      ]
    },
    {
      "cell_type": "code",
      "execution_count": 36,
      "metadata": {
        "id": "M1l7gcAX3ZQG"
      },
      "outputs": [],
      "source": [
        "# define network\n",
        "class Net(nn.Module):\n",
        "    def __init__(self):\n",
        "        super(Net, self).__init__()  # Initialize the parent class (nn.Module)\n",
        "        self.conv1 = nn.Conv2d(3, 6, 5) # First conv layer: 3 input channels/planes (RGB), 6 output channels, 5x5 kernel\n",
        "        self.pool = nn.MaxPool2d(2, 2)  # Max pooling layer with 2x2 window and stride 2\n",
        "        self.conv2 = nn.Conv2d(6, 16, 5)  # Second conv layer: 6 input channels (output of first conv layer), 16 output channels, 5x5 kernel\n",
        "        self.fc1 = nn.Linear(16 * 5 * 5, 120)  # First fully connected layer: 16*5*5 inputs, 120 outputs\n",
        "        self.fc2 = nn.Linear(120, 84)  # Second fully connected layer: 120 inputs, 84 outputs\n",
        "        self.fc3 = nn.Linear(84, 10)  # Output layer: 84 inputs, 10 outputs (CIFAR-10 classes)\n",
        "\n",
        "    def forward(self, x):\n",
        "        x = self.pool(F.relu(self.conv1(x)))  # Apply conv1, ReLU activation, and max pooling\n",
        "        x = self.pool(F.relu(self.conv2(x)))  # Apply conv2, ReLU activation, and max pooling\n",
        "        x = x.view(-1, 16 * 5 * 5)  # Flatten the feature maps (-1 for automatic batch size calculation)\n",
        "        x = F.relu(self.fc1(x))  # Apply first fully connected layer with ReLU\n",
        "        x = F.relu(self.fc2(x))  # Apply second fully connected layer with ReLU\n",
        "        x = self.fc3(x)  # Apply output layer (logits)\n",
        "        return x  # Return the output logits\n",
        "\n",
        "net = Net()  # Instantiate the network"
      ]
    },
    {
      "cell_type": "code",
      "execution_count": 38,
      "metadata": {},
      "outputs": [
        {
          "name": "stdout",
          "output_type": "stream",
          "text": [
            "Number of trainable parameters: 62006\n"
          ]
        }
      ],
      "source": [
        "# compute the number of trainable parameters in the network\n",
        "total_params = sum(p.numel() for p in net.parameters())\n",
        "print(f\"Number of trainable parameters: {total_params}\")"
      ]
    },
    {
      "cell_type": "code",
      "execution_count": 44,
      "metadata": {},
      "outputs": [
        {
          "name": "stdout",
          "output_type": "stream",
          "text": [
            "450\n",
            "torch.Size([6, 3, 5, 5])\n",
            "6\n",
            "torch.Size([6])\n",
            "2400\n",
            "torch.Size([16, 6, 5, 5])\n",
            "16\n",
            "torch.Size([16])\n",
            "48000\n",
            "torch.Size([120, 400])\n",
            "120\n",
            "torch.Size([120])\n",
            "10080\n",
            "torch.Size([84, 120])\n",
            "84\n",
            "torch.Size([84])\n",
            "840\n",
            "torch.Size([10, 84])\n",
            "10\n",
            "torch.Size([10])\n"
          ]
        }
      ],
      "source": [
        "for p in net.parameters():\n",
        "    print(p.numel())\n",
        "    print(p.shape)"
      ]
    },
    {
      "cell_type": "markdown",
      "metadata": {
        "id": "EKpyEs443mZV"
      },
      "source": [
        "### Step 3: Train the network"
      ]
    },
    {
      "cell_type": "code",
      "execution_count": null,
      "metadata": {
        "colab": {
          "base_uri": "https://localhost:8080/"
        },
        "id": "hhEKOFYO3bx1",
        "outputId": "75c5d2b7-f749-4a69-999a-e226bf2c196a"
      },
      "outputs": [
        {
          "name": "stdout",
          "output_type": "stream",
          "text": [
            "[1,  2000] loss: 2.212\n",
            "[1,  4000] loss: 1.856\n",
            "[1,  6000] loss: 1.653\n",
            "[1,  8000] loss: 1.577\n",
            "[1, 10000] loss: 1.487\n",
            "[1, 12000] loss: 1.441\n",
            "[2,  2000] loss: 1.376\n",
            "[2,  4000] loss: 1.354\n",
            "[2,  6000] loss: 1.341\n",
            "[2,  8000] loss: 1.309\n",
            "[2, 10000] loss: 1.293\n",
            "[2, 12000] loss: 1.264\n",
            "Finished Training\n"
          ]
        }
      ],
      "source": [
        "# define loss function and optimizer (cross-entropy loss and SGD with momentum)\n",
        "criterion = nn.CrossEntropyLoss() # loss function -- generalizes for more than 2 classes (multi-class classification)\n",
        "optimizer = optim.SGD(net.parameters(), lr=0.001, momentum=0.9) # optimizer -- stochastic gradient descent with momentum\n",
        "\n",
        "# 0.9 momentum corresponds to recent 10 weight updates\n",
        "\n",
        "# train the model\n",
        "for epoch in range(2):  # loop over the dataset multiple times\n",
        "\n",
        "    running_loss = 0.0\n",
        "    for i, data in enumerate(trainloader, 0):\n",
        "        # get the inputs; data is a list of [inputs, labels]\n",
        "        inputs, labels = data\n",
        "\n",
        "        # zero the parameter gradients\n",
        "        optimizer.zero_grad()\n",
        "\n",
        "        # forward + backward + optimize\n",
        "        outputs = net(inputs)  # Forward pass: compute model predictions (logits) for the current batch\n",
        "        loss = criterion(outputs, labels)  # Calculate cross-entropy loss between predicted outputs and true labels\n",
        "        loss.backward()  # Backpropagation: compute gradients of the loss w.r.t. all learnable parameters\n",
        "        optimizer.step()  # Update all model parameters using the computed gradients and SGD with momentum\n",
        "\n",
        "        # print statistics\n",
        "        running_loss += loss.item()\n",
        "        if i % 2000 == 1999:    # print every 2000 mini-batches\n",
        "            print('[%d, %5d] loss: %.3f' %\n",
        "                  (epoch + 1, i + 1, running_loss / 2000))\n",
        "            running_loss = 0.0\n",
        "\n",
        "print('Finished Training')\n",
        "\n",
        "# save trained model\n",
        "PATH = './cifar_net.pth'\n",
        "torch.save(net.state_dict(), PATH)"
      ]
    },
    {
      "cell_type": "markdown",
      "metadata": {
        "id": "fBIQVZvo50TE"
      },
      "source": [
        "### Step 4: Test the network"
      ]
    },
    {
      "cell_type": "code",
      "execution_count": 45,
      "metadata": {
        "colab": {
          "base_uri": "https://localhost:8080/",
          "height": 419
        },
        "id": "XZ-Rhmhe53i7",
        "outputId": "5b386a4c-d7dc-45d8-ffe0-29388f9bf536"
      },
      "outputs": [
        {
          "data": {
            "image/png": "[encoded data removed]",
            "text/plain": [
              "<Figure size 640x480 with 1 Axes>"
            ]
          },
          "metadata": {},
          "output_type": "display_data"
        },
        {
          "name": "stdout",
          "output_type": "stream",
          "text": [
            "GroundTruth:    cat  ship  ship plane\n",
            "Predicted:    cat  ship  ship  ship\n"
          ]
        },
        {
          "name": "stderr",
          "output_type": "stream",
          "text": [
            "/tmp/ipykernel_309987/1230447647.py:11: FutureWarning: You are using `torch.load` with `weights_only=False` (the current default value), which uses the default pickle module implicitly. It is possible to construct malicious pickle data which will execute arbitrary code during unpickling (See https://github.com/pytorch/pytorch/blob/main/SECURITY.md#untrusted-models for more details). In a future release, the default value for `weights_only` will be flipped to `True`. This limits the functions that could be executed during unpickling. Arbitrary objects will no longer be allowed to be loaded via this mode unless they are explicitly allowlisted by the user via `torch.serialization.add_safe_globals`. We recommend you start setting `weights_only=True` for any use case where you don't have full control of the loaded file. Please open an issue on GitHub for any issues related to this experimental feature.\n",
            "  net.load_state_dict(torch.load(PATH))\n"
          ]
        },
        {
          "name": "stdout",
          "output_type": "stream",
          "text": [
            "Accuracy of the network on the 10000 test images: 55 %\n",
            "Accuracy of plane : 52 %\n",
            "Accuracy of   car : 70 %\n",
            "Accuracy of  bird : 25 %\n",
            "Accuracy of   cat : 34 %\n",
            "Accuracy of  deer : 51 %\n",
            "Accuracy of   dog : 43 %\n",
            "Accuracy of  frog : 69 %\n",
            "Accuracy of horse : 64 %\n",
            "Accuracy of  ship : 79 %\n",
            "Accuracy of truck : 58 %\n"
          ]
        }
      ],
      "source": [
        "# display images from test set\n",
        "dataiter = iter(testloader)\n",
        "images, labels = next(dataiter)\n",
        "\n",
        "# print images\n",
        "imshow(torchvision.utils.make_grid(images))\n",
        "print('GroundTruth: ', ' '.join('%5s' % classes[labels[j]] for j in range(4)))\n",
        "\n",
        "# load trained network (only needed if you exited ipython after training)\n",
        "net = Net()\n",
        "net.load_state_dict(torch.load(PATH))\n",
        "\n",
        "# object categories predicted by the network\n",
        "outputs = net(images)\n",
        "_, predicted = torch.max(outputs, 1)\n",
        "\n",
        "print('Predicted: ', ' '.join('%5s' % classes[predicted[j]]\n",
        "                              for j in range(4)))\n",
        "\n",
        "# accuracy on the full test data set (10,000 images)\n",
        "correct = 0\n",
        "total = 0\n",
        "with torch.no_grad():\n",
        "    for data in testloader:\n",
        "        images, labels = data\n",
        "        outputs = net(images)\n",
        "        _, predicted = torch.max(outputs.data, 1)\n",
        "        total += labels.size(0)\n",
        "        correct += (predicted == labels).sum().item()\n",
        "\n",
        "print('Accuracy of the network on the 10000 test images: %d %%' % (\n",
        "    100 * correct / total))\n",
        "\n",
        "# investigate performance per object categoryclass_correct = list(0. for i in range(10))\n",
        "class_correct = list(0. for i in range(10))\n",
        "class_total = list(0. for i in range(10))\n",
        "with torch.no_grad():\n",
        "    for data in testloader:\n",
        "        images, labels = data\n",
        "        outputs = net(images)\n",
        "        _, predicted = torch.max(outputs, 1)\n",
        "        c = (predicted == labels).squeeze()\n",
        "        for i in range(4):\n",
        "            label = labels[i]\n",
        "            class_correct[label] += c[i].item()\n",
        "            class_total[label] += 1\n",
        "\n",
        "for i in range(10):\n",
        "    print('Accuracy of %5s : %2d %%' % (\n",
        "        classes[i], 100 * class_correct[i] / class_total[i]))"
      ]
    }
  ],
  "metadata": {
    "colab": {
      "provenance": []
    },
    "kernelspec": {
      "display_name": "base",
      "language": "python",
      "name": "python3"
    },
    "language_info": {
      "codemirror_mode": {
        "name": "ipython",
        "version": 3
      },
      "file_extension": ".py",
      "mimetype": "text/x-python",
      "name": "python",
      "nbconvert_exporter": "python",
      "pygments_lexer": "ipython3",
      "version": "3.11.7"
    }
  },
  "nbformat": 4,
  "nbformat_minor": 0
}
